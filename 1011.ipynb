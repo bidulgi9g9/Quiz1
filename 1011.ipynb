{
 "cells": [
  {
   "cell_type": "code",
   "execution_count": 49,
   "metadata": {},
   "outputs": [
    {
     "name": "stdout",
     "output_type": "stream",
     "text": [
      "3\n",
      "3\n",
      "4\n"
     ]
    }
   ],
   "source": [
    "for i in range(int(input())):\n",
    "    a, b = map(int, input().split(' '))\n",
    "    c = b - a \n",
    "    cnt1 = 0\n",
    "    while (cnt1+1)**2 < c:\n",
    "        cnt1 += 1\n",
    "\n",
    "    if cnt1**2 == c:\n",
    "        print(cnt1*2-1)\n",
    "    elif cnt1**2 < c and c - cnt1**2 <=cnt1:\n",
    "        print(cnt1*2)\n",
    "    else:\n",
    "        print(cnt1*2+1)\n",
    "\n",
    "        \n"
   ]
  }
 ],
 "metadata": {
  "interpreter": {
   "hash": "958b8b4af93511b7ef0a546f7c12d86ebe0b5505afeba901c98054f2e7745e91"
  },
  "kernelspec": {
   "display_name": "Python 3.9.7 ('base')",
   "language": "python",
   "name": "python3"
  },
  "language_info": {
   "codemirror_mode": {
    "name": "ipython",
    "version": 3
   },
   "file_extension": ".py",
   "mimetype": "text/x-python",
   "name": "python",
   "nbconvert_exporter": "python",
   "pygments_lexer": "ipython3",
   "version": "3.9.7"
  },
  "orig_nbformat": 4
 },
 "nbformat": 4,
 "nbformat_minor": 2
}
