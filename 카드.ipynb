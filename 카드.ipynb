{
 "cells": [
  {
   "cell_type": "code",
   "execution_count": 68,
   "metadata": {},
   "outputs": [
    {
     "name": "stdout",
     "output_type": "stream",
     "text": [
      "[6, 6]\n",
      "1 3 5 7 4 2\n"
     ]
    }
   ],
   "source": [
    "a = int(input())\n",
    "b = []\n",
    "c = []\n",
    "d = \"\"\n",
    "\n",
    "for i in range(a):\n",
    "    b.append(i+1)\n",
    "\n",
    "while len(b) > 1:\n",
    "    c.append(b.pop(0))\n",
    "    b.append(b.pop(0))\n",
    "\n",
    "c.append(b[0])\n",
    "\n",
    "d = \" \".join(map(str, c))\n",
    "print(d)\n",
    "    \n",
    "\n",
    "\n",
    "\n",
    "\n",
    "        "
   ]
  },
  {
   "cell_type": "code",
   "execution_count": 58,
   "metadata": {},
   "outputs": [
    {
     "name": "stdout",
     "output_type": "stream",
     "text": [
      "1\n",
      "[2, 3]\n"
     ]
    }
   ],
   "source": [
    "c = [1, 2, 3]\n",
    "\n",
    "print(c.pop(0))\n",
    "print(c)\n"
   ]
  }
 ],
 "metadata": {
  "interpreter": {
   "hash": "958b8b4af93511b7ef0a546f7c12d86ebe0b5505afeba901c98054f2e7745e91"
  },
  "kernelspec": {
   "display_name": "Python 3.9.7 ('base')",
   "language": "python",
   "name": "python3"
  },
  "language_info": {
   "codemirror_mode": {
    "name": "ipython",
    "version": 3
   },
   "file_extension": ".py",
   "mimetype": "text/x-python",
   "name": "python",
   "nbconvert_exporter": "python",
   "pygments_lexer": "ipython3",
   "version": "3.9.7"
  },
  "orig_nbformat": 4
 },
 "nbformat": 4,
 "nbformat_minor": 2
}
