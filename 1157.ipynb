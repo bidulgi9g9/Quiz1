{
 "cells": [
  {
   "cell_type": "code",
   "execution_count": 20,
   "metadata": {},
   "outputs": [
    {
     "name": "stdout",
     "output_type": "stream",
     "text": [
      "Z\n"
     ]
    }
   ],
   "source": [
    "a = input().upper()\n",
    "b = list(set(a))\n",
    "cnt = 0\n",
    "cnt_list = []\n",
    "\n",
    "for i in b:\n",
    "    cnt = a.count(i)\n",
    "    cnt_list.append(cnt)\n",
    "\n",
    "if cnt_list.count(max(cnt_list)) > 1:\n",
    "  print(\"?\")\n",
    "\n",
    "else:\n",
    "  print(b[(cnt_list.index(max(cnt_list)))])\n",
    "\n"
   ]
  }
 ],
 "metadata": {
  "interpreter": {
   "hash": "958b8b4af93511b7ef0a546f7c12d86ebe0b5505afeba901c98054f2e7745e91"
  },
  "kernelspec": {
   "display_name": "Python 3.9.7 ('base')",
   "language": "python",
   "name": "python3"
  },
  "language_info": {
   "codemirror_mode": {
    "name": "ipython",
    "version": 3
   },
   "file_extension": ".py",
   "mimetype": "text/x-python",
   "name": "python",
   "nbconvert_exporter": "python",
   "pygments_lexer": "ipython3",
   "version": "3.9.7"
  },
  "orig_nbformat": 4
 },
 "nbformat": 4,
 "nbformat_minor": 2
}
