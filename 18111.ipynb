{
 "cells": [
  {
   "cell_type": "code",
   "execution_count": 23,
   "metadata": {},
   "outputs": [
    {
     "name": "stdout",
     "output_type": "stream",
     "text": [
      "2 0\n"
     ]
    }
   ],
   "source": [
    "a, b, c = map(int, input().split())\n",
    "d = [list(map(int, input().split())) for _ in range(a)]\n",
    "cnt1 = 0\n",
    "high = 0\n",
    "low = 0\n",
    "total = a*b\n",
    "\n",
    "for i in d:\n",
    "    high = max(i)\n",
    "    low = min(i)\n",
    "\n",
    "\n",
    "for i in d:\n",
    "    cnt1 += i.count(high)\n",
    "\n",
    "pbl = total - cnt1\n",
    "\n",
    "if c == 0: #다캐기\n",
    "    print(cnt1*2, low)\n",
    "    \n",
    "elif c < pbl and pbl < cnt1: # 다캐기\n",
    "    print(cnt1*2, low)\n",
    "\n",
    "elif c >= pbl and pbl <= cnt1: #채우기\n",
    "    print(pbl*1, high)\n",
    "\n",
    "else: #다캐기\n",
    "    print(cnt1*2, low)\n",
    "\n",
    "\n"
   ]
  },
  {
   "cell_type": "code",
   "execution_count": 10,
   "metadata": {},
   "outputs": [
    {
     "name": "stdout",
     "output_type": "stream",
     "text": [
      "[[1234, 1234], [1234, 1234]]\n"
     ]
    }
   ],
   "source": [
    "d = [list(map(int, input().split())) for _ in range(2)]\n",
    "print(d)"
   ]
  }
 ],
 "metadata": {
  "interpreter": {
   "hash": "958b8b4af93511b7ef0a546f7c12d86ebe0b5505afeba901c98054f2e7745e91"
  },
  "kernelspec": {
   "display_name": "Python 3.9.7 ('base')",
   "language": "python",
   "name": "python3"
  },
  "language_info": {
   "codemirror_mode": {
    "name": "ipython",
    "version": 3
   },
   "file_extension": ".py",
   "mimetype": "text/x-python",
   "name": "python",
   "nbconvert_exporter": "python",
   "pygments_lexer": "ipython3",
   "version": "3.9.7"
  },
  "orig_nbformat": 4
 },
 "nbformat": 4,
 "nbformat_minor": 2
}
