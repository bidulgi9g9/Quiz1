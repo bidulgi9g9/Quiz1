{
 "cells": [
  {
   "cell_type": "code",
   "execution_count": 71,
   "metadata": {},
   "outputs": [
    {
     "name": "stdout",
     "output_type": "stream",
     "text": [
      "5\n"
     ]
    }
   ],
   "source": [
    "a = int(input())\n",
    "\n",
    "def kg5():\n",
    "    return a//5\n",
    "if a < 5:\n",
    "    if a % 3 == 0:\n",
    "        print(a // 3)\n",
    "    else:\n",
    "        print(-1)\n",
    "\n",
    "else:\n",
    "    if a % 5 == 0 :\n",
    "        print(kg5())\n",
    "\n",
    "    elif a % 5 == 1 :\n",
    "        print(kg5() + 1)\n",
    "\n",
    "    elif a % 5 == 2 :\n",
    "        if a == 7:\n",
    "            print(-1)\n",
    "        else:\n",
    "            print(kg5() + 2)\n",
    "\n",
    "    elif a % 5 == 3 :\n",
    "        print(kg5() + 1)\n",
    "\n",
    "    elif a % 5 == 4 :\n",
    "        print(kg5() +2)\n",
    "    else:\n",
    "        print(-1)\n",
    "\n"
   ]
  },
  {
   "cell_type": "code",
   "execution_count": 27,
   "metadata": {},
   "outputs": [
    {
     "name": "stdout",
     "output_type": "stream",
     "text": [
      "3\n"
     ]
    }
   ],
   "source": []
  }
 ],
 "metadata": {
  "interpreter": {
   "hash": "958b8b4af93511b7ef0a546f7c12d86ebe0b5505afeba901c98054f2e7745e91"
  },
  "kernelspec": {
   "display_name": "Python 3.9.7 ('base')",
   "language": "python",
   "name": "python3"
  },
  "language_info": {
   "codemirror_mode": {
    "name": "ipython",
    "version": 3
   },
   "file_extension": ".py",
   "mimetype": "text/x-python",
   "name": "python",
   "nbconvert_exporter": "python",
   "pygments_lexer": "ipython3",
   "version": "3.9.7"
  },
  "orig_nbformat": 4
 },
 "nbformat": 4,
 "nbformat_minor": 2
}
