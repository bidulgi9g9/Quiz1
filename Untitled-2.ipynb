{
 "cells": [
  {
   "cell_type": "code",
   "execution_count": 15,
   "metadata": {},
   "outputs": [
    {
     "name": "stdout",
     "output_type": "stream",
     "text": [
      "60\n"
     ]
    }
   ],
   "source": [
    "num = int(input())\n",
    "a = num\n",
    "cnt = 0\n",
    "\n",
    "while True:\n",
    "    if a < 10:\n",
    "        a = '0' + str(a)\n",
    "    else:\n",
    "        a = str(a)\n",
    "    \n",
    "    if c != num:\n",
    "        cnt += 1\n",
    "        b = int(a[0]) + int(a[1])\n",
    "        b = str(b)\n",
    "        a = a[1] + b[-1]\n",
    "        a = int(a)\n",
    "        c = a\n",
    "    else:\n",
    "        print(cnt)\n",
    "        break\n",
    "\n",
    "    \n",
    "    \n",
    "\n",
    "\n",
    "    \n",
    "\n",
    "    \n",
    "\n"
   ]
  }
 ],
 "metadata": {
  "interpreter": {
   "hash": "958b8b4af93511b7ef0a546f7c12d86ebe0b5505afeba901c98054f2e7745e91"
  },
  "kernelspec": {
   "display_name": "Python 3.9.7 ('base')",
   "language": "python",
   "name": "python3"
  },
  "language_info": {
   "codemirror_mode": {
    "name": "ipython",
    "version": 3
   },
   "file_extension": ".py",
   "mimetype": "text/x-python",
   "name": "python",
   "nbconvert_exporter": "python",
   "pygments_lexer": "ipython3",
   "version": "3.9.7"
  },
  "orig_nbformat": 4
 },
 "nbformat": 4,
 "nbformat_minor": 2
}
