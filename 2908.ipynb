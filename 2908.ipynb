{
 "cells": [
  {
   "cell_type": "code",
   "execution_count": 7,
   "metadata": {},
   "outputs": [
    {
     "name": "stdout",
     "output_type": "stream",
     "text": [
      "437\n"
     ]
    }
   ],
   "source": [
    "a, b = input().split()\n",
    "a = \"\".join(reversed(a))\n",
    "b = \"\".join(reversed(b))\n",
    "a = int(a)\n",
    "b = int(b)\n",
    "if a > b:\n",
    "    print(a)\n",
    "elif a < b:\n",
    "    print(b)\n"
   ]
  }
 ],
 "metadata": {
  "interpreter": {
   "hash": "958b8b4af93511b7ef0a546f7c12d86ebe0b5505afeba901c98054f2e7745e91"
  },
  "kernelspec": {
   "display_name": "Python 3.9.7 ('base')",
   "language": "python",
   "name": "python3"
  },
  "language_info": {
   "codemirror_mode": {
    "name": "ipython",
    "version": 3
   },
   "file_extension": ".py",
   "mimetype": "text/x-python",
   "name": "python",
   "nbconvert_exporter": "python",
   "pygments_lexer": "ipython3",
   "version": "3.9.7"
  },
  "orig_nbformat": 4
 },
 "nbformat": 4,
 "nbformat_minor": 2
}
