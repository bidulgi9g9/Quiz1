{
 "cells": [
  {
   "cell_type": "code",
   "execution_count": 10,
   "metadata": {},
   "outputs": [
    {
     "name": "stdout",
     "output_type": "stream",
     "text": [
      "\n",
      "|\\_/|\n",
      "|q p|   /}\n",
      "( 0 )\"\"\"\\ \n",
      "|\"^\"`    |\n",
      "||_/=\\__|\n"
     ]
    }
   ],
   "source": [
    "print('''\n",
    "|\\_/|\n",
    "|q p|   /}\n",
    "( 0 )\"\"\"\\ \\n|\"^\"`    |\n",
    "||_/=\\\\__|''')\n",
    "\n",
    "print(1)"
   ]
  }
 ],
 "metadata": {
  "interpreter": {
   "hash": "7770115da8a6507e10371d1542876678efabf60ddb3d2873f3c6089af8c1e530"
  },
  "kernelspec": {
   "display_name": "Python 3.9.7 ('base')",
   "language": "python",
   "name": "python3"
  },
  "language_info": {
   "codemirror_mode": {
    "name": "ipython",
    "version": 3
   },
   "file_extension": ".py",
   "mimetype": "text/x-python",
   "name": "python",
   "nbconvert_exporter": "python",
   "pygments_lexer": "ipython3",
   "version": "3.9.7"
  },
  "orig_nbformat": 4
 },
 "nbformat": 4,
 "nbformat_minor": 2
}
