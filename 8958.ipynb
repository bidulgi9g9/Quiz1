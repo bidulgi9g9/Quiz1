{
 "cells": [
  {
   "cell_type": "code",
   "execution_count": 13,
   "metadata": {},
   "outputs": [
    {
     "name": "stdout",
     "output_type": "stream",
     "text": [
      "10\n",
      "9\n",
      "7\n",
      "55\n",
      "30\n"
     ]
    }
   ],
   "source": [
    "for i in range(int(input())):\n",
    "    a = list(input())\n",
    "    cnt = 0\n",
    "    b = ''\n",
    "    cnt2 = 0\n",
    "    for r in a:\n",
    "        if b == '' and r == 'O' or b =='X' and r == 'O':\n",
    "            cnt2 = 1\n",
    "            cnt += cnt2\n",
    "            b = 'O'\n",
    "        elif b == '' and r =='X' or b == 'O' and r =='X':\n",
    "            cnt2 = 0\n",
    "            b = 'X'\n",
    "        elif b =='O' and r == 'O':\n",
    "            cnt2 += 1\n",
    "            cnt += cnt2\n",
    "            b = 'O'\n",
    "    print(cnt)\n",
    "\n",
    "\n",
    "\n"
   ]
  }
 ],
 "metadata": {
  "language_info": {
   "name": "python"
  },
  "orig_nbformat": 4
 },
 "nbformat": 4,
 "nbformat_minor": 2
}
