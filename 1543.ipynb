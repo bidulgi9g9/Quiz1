{
 "cells": [
  {
   "cell_type": "code",
   "execution_count": 20,
   "metadata": {},
   "outputs": [
    {
     "name": "stdout",
     "output_type": "stream",
     "text": [
      "3\n"
     ]
    }
   ],
   "source": [
    "a = input()\n",
    "b = input()\n",
    "c = 0\n",
    "\n",
    "while True:\n",
    "    if b in a:\n",
    "        a = a.replace(b, '', 1)\n",
    "        c += 1\n",
    "    else:\n",
    "        break\n",
    "\n",
    "print(c)\n",
    "\n"
   ]
  },
  {
   "cell_type": "code",
   "execution_count": 23,
   "metadata": {},
   "outputs": [
    {
     "name": "stdout",
     "output_type": "stream",
     "text": [
      "2\n"
     ]
    }
   ],
   "source": [
    "print(input().count(input()))"
   ]
  }
 ],
 "metadata": {
  "interpreter": {
   "hash": "958b8b4af93511b7ef0a546f7c12d86ebe0b5505afeba901c98054f2e7745e91"
  },
  "kernelspec": {
   "display_name": "Python 3.9.7 ('base')",
   "language": "python",
   "name": "python3"
  },
  "language_info": {
   "name": "python",
   "version": "3.9.7"
  },
  "orig_nbformat": 4
 },
 "nbformat": 4,
 "nbformat_minor": 2
}
