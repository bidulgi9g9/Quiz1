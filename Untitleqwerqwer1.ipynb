{
 "cells": [
  {
   "cell_type": "code",
   "execution_count": 67,
   "metadata": {},
   "outputs": [
    {
     "name": "stdout",
     "output_type": "stream",
     "text": [
      "4\n"
     ]
    }
   ],
   "source": [
    "a = {'1':0, '2':0, '3':0, '4':0, '5':0, '6':0, '7':0, '8':0, '0':0}\n",
    "b = list(input())\n",
    "\n",
    "for i in b:\n",
    "    if i == '6' or '9':\n",
    "        a['6'] += 1\n",
    "    else:\n",
    "        a[i] += 1\n",
    "\n",
    "if a['6'] % 2 == 0:\n",
    "    a['6'] = a['6'] // 2\n",
    "else:\n",
    "    a['6'] = a['6'] // 2 + 1\n",
    "\n",
    "c = max(a.values())\n",
    "\n",
    "print(c)\n"
   ]
  },
  {
   "cell_type": "code",
   "execution_count": 68,
   "metadata": {},
   "outputs": [
    {
     "name": "stdout",
     "output_type": "stream",
     "text": [
      "['1', '2', '4', '3']\n"
     ]
    }
   ],
   "source": [
    "\n",
    "a = input()\n",
    "b = list(a)\n",
    "print(b)\n",
    "\n"
   ]
  }
 ],
 "metadata": {
  "interpreter": {
   "hash": "958b8b4af93511b7ef0a546f7c12d86ebe0b5505afeba901c98054f2e7745e91"
  },
  "kernelspec": {
   "display_name": "Python 3.9.7 ('base')",
   "language": "python",
   "name": "python3"
  },
  "language_info": {
   "codemirror_mode": {
    "name": "ipython",
    "version": 3
   },
   "file_extension": ".py",
   "mimetype": "text/x-python",
   "name": "python",
   "nbconvert_exporter": "python",
   "pygments_lexer": "ipython3",
   "version": "3.9.7"
  },
  "orig_nbformat": 4
 },
 "nbformat": 4,
 "nbformat_minor": 2
}
