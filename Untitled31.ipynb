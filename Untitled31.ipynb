{
 "cells": [
  {
   "cell_type": "code",
   "execution_count": 3,
   "metadata": {},
   "outputs": [
    {
     "name": "stdout",
     "output_type": "stream",
     "text": [
      "10\n"
     ]
    }
   ],
   "source": [
    "num = []\n",
    "num2 = []\n",
    "cnt = 0\n",
    "for i in range(10):\n",
    "    a = int(input())\n",
    "    num.append(a)\n",
    "for i in num:\n",
    "    a = i % 42 \n",
    "    num2.append(a)\n",
    "num3 = set(num2)\n",
    "print(len(num3))\n",
    "\n"
   ]
  },
  {
   "cell_type": "code",
   "execution_count": 14,
   "metadata": {},
   "outputs": [
    {
     "name": "stdout",
     "output_type": "stream",
     "text": [
      "[33.33333333333333, 66.66666666666666, 100.0]\n",
      "66.66666666666667\n"
     ]
    }
   ],
   "source": [
    "num = []\n",
    "num2 = []\n",
    "\n",
    "n = int(input())\n",
    "\n",
    "for i in range(n):\n",
    "    num.append(int(input()))\n",
    "\n",
    "m = max(num)\n",
    "\n",
    "for i in num:\n",
    "    num2.append(i/m*100)\n",
    "\n",
    "t = sum(num2)\n",
    "\n",
    "print(t/n)\n",
    "\n"
   ]
  },
  {
   "cell_type": "code",
   "execution_count": 17,
   "metadata": {},
   "outputs": [
    {
     "name": "stdout",
     "output_type": "stream",
     "text": [
      "66.66666666666667\n"
     ]
    }
   ],
   "source": [
    "n = int(input())\n",
    "num = list(map(int, input().split()))\n",
    "num2 = []\n",
    "m = max(num)\n",
    "\n",
    "for i in num:\n",
    "    num2.append(i/m*100)\n",
    "\n",
    "t = sum(num2)\n",
    "\n",
    "print(t/n)"
   ]
  }
 ],
 "metadata": {
  "interpreter": {
   "hash": "958b8b4af93511b7ef0a546f7c12d86ebe0b5505afeba901c98054f2e7745e91"
  },
  "kernelspec": {
   "display_name": "Python 3.9.7 ('base')",
   "language": "python",
   "name": "python3"
  },
  "language_info": {
   "codemirror_mode": {
    "name": "ipython",
    "version": 3
   },
   "file_extension": ".py",
   "mimetype": "text/x-python",
   "name": "python",
   "nbconvert_exporter": "python",
   "pygments_lexer": "ipython3",
   "version": "3.9.7"
  },
  "orig_nbformat": 4
 },
 "nbformat": 4,
 "nbformat_minor": 2
}
