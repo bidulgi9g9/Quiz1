{
 "cells": [
  {
   "cell_type": "code",
   "execution_count": 8,
   "metadata": {},
   "outputs": [
    {
     "name": "stdout",
     "output_type": "stream",
     "text": [
      "8\n"
     ]
    }
   ],
   "source": [
    "a, b, c = map(int, input().split())\n",
    "\n",
    "if a > 0:\n",
    "    d = list(map(int, input().split()))\n",
    "else:\n",
    "    d = []\n",
    "e = 0\n",
    "d.append(b)\n",
    "d.sort(reverse=True)\n",
    "\n",
    "while b in d:\n",
    "    if b in d:\n",
    "        e += 1\n",
    "        d.pop(d.index(b))\n",
    "    \n",
    "d.append(b)\n",
    "d.sort(reverse=True)\n",
    "\n",
    "if d.index(b) + e > c:\n",
    "    print(-1)\n",
    "else:\n",
    "    print(d.index(b) + 1)\n",
    "\n",
    "\n"
   ]
  },
  {
   "cell_type": "code",
   "execution_count": 29,
   "metadata": {},
   "outputs": [
    {
     "name": "stdout",
     "output_type": "stream",
     "text": [
      "[1, 1, 1]\n"
     ]
    }
   ],
   "source": [
    "w = [1, 1, 1, 1]\n",
    "s = 1\n",
    "w.pop(s)\n",
    "print(w)"
   ]
  }
 ],
 "metadata": {
  "interpreter": {
   "hash": "958b8b4af93511b7ef0a546f7c12d86ebe0b5505afeba901c98054f2e7745e91"
  },
  "kernelspec": {
   "display_name": "Python 3.9.7 ('base')",
   "language": "python",
   "name": "python3"
  },
  "language_info": {
   "codemirror_mode": {
    "name": "ipython",
    "version": 3
   },
   "file_extension": ".py",
   "mimetype": "text/x-python",
   "name": "python",
   "nbconvert_exporter": "python",
   "pygments_lexer": "ipython3",
   "version": "3.9.7"
  },
  "orig_nbformat": 4
 },
 "nbformat": 4,
 "nbformat_minor": 2
}
