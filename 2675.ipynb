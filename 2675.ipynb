{
 "cells": [
  {
   "cell_type": "code",
   "execution_count": 8,
   "metadata": {},
   "outputs": [
    {
     "name": "stdout",
     "output_type": "stream",
     "text": [
      "aaasssddd\n",
      "aaasssddd/////hhhhhpppppttttt\n"
     ]
    }
   ],
   "source": [
    "for i in range(int(input())):\n",
    "    d = []\n",
    "    e = ''\n",
    "    a, b = input().split()\n",
    "    a = int(a)\n",
    "    c = list(b)\n",
    "    for r in c:\n",
    "        d.append(r*a)\n",
    "    e = ''.join(d)\n",
    "    print(e)\n",
    "    \n",
    "\n"
   ]
  }
 ],
 "metadata": {
  "interpreter": {
   "hash": "958b8b4af93511b7ef0a546f7c12d86ebe0b5505afeba901c98054f2e7745e91"
  },
  "kernelspec": {
   "display_name": "Python 3.9.7 ('base')",
   "language": "python",
   "name": "python3"
  },
  "language_info": {
   "codemirror_mode": {
    "name": "ipython",
    "version": 3
   },
   "file_extension": ".py",
   "mimetype": "text/x-python",
   "name": "python",
   "nbconvert_exporter": "python",
   "pygments_lexer": "ipython3",
   "version": "3.9.7"
  },
  "orig_nbformat": 4
 },
 "nbformat": 4,
 "nbformat_minor": 2
}
